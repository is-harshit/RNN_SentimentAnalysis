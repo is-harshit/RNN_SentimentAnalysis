{
 "cells": [
  {
   "cell_type": "code",
   "execution_count": 10,
   "outputs": [
    {
     "name": "stdout",
     "output_type": "stream",
     "text": [
      "I'm so sorry to hear that you're feeling sad and taken advantage of.\n",
      "\n",
      "It takes a lot of courage to acknowledge and express vulnerability, so kudos to you for sharing your feelings. It's understandable to feel sad when people take advantage of your kindness. It's frustrating and hurtful when others exploit your good nature without reciprocating the same kindness.\n",
      "\n",
      "Here are some thoughts to consider:\n",
      "\n",
      "1. **You are not alone**: Many people have experienced being taken advantage of due to their kind nature. It's not uncommon for others to assume they can get away with exploiting someone's generosity.\n",
      "2. **You are kind, and that's a strength**: Your kindness is not a weakness; it's a remarkable quality that can positively impact those around you. Don't let others' actions diminish your compassion and empathy.\n",
      "3. **Set boundaries**: It's essential to establish clear boundaries to protect yourself from being taken advantage of. Learn to say \"no\" or \"not right now\" when you're not comfortable with a request. Practice assertive communication to maintain healthy relationships.\n",
      "4. **Surround yourself with positive people**: Focus on nurturing relationships with people who appreciate and respect your kindness. Spend time with those who uplift and support you, and avoid those who consistently take advantage of your generosity.\n",
      "5. **Take care of yourself**: Remember that your emotional well-being is crucial. Prioritize self-care, engage in activities that bring you joy, and seek support from loved ones or professionals if needed.\n",
      "\n",
      "Remember, your kindness is a gift, and it's okay to prioritize yourself and your feelings. You deserve to be treated with respect and kindness in return.\n",
      "\n",
      "Keep in mind that I'm here to listen and offer support. If you'd like to talk more about your feelings or situations, I'm all ears!\n"
     ]
    }
   ],
   "source": [
    "import os\n",
    "\n",
    "from groq import Groq\n",
    "\n",
    "client = Groq(\n",
    "    api_key=\"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\",\n",
    ")\n",
    "\n",
    "\n",
    "msg=\"I am very sad, People use me for my kindness\"\n",
    "chat_completion = client.chat.completions.create(\n",
    "    messages=[\n",
    "        {\n",
    "            \"role\": \"user\",\n",
    "            \"content\": \"what is ur take on my statement? \"+msg,\n",
    "        }\n",
    "    ],\n",
    "    model=\"llama3-70b-8192\",\n",
    ")\n",
    "\n",
    "print(chat_completion.choices[0].message.content)"
   ],
   "metadata": {
    "collapsed": false
   }
  },
  {
   "cell_type": "code",
   "execution_count": null,
   "outputs": [],
   "source": [
    "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"
   ],
   "metadata": {
    "collapsed": false
   }
  }
 ],
 "metadata": {
  "kernelspec": {
   "display_name": "Python 3",
   "language": "python",
   "name": "python3"
  },
  "language_info": {
   "codemirror_mode": {
    "name": "ipython",
    "version": 2
   },
   "file_extension": ".py",
   "mimetype": "text/x-python",
   "name": "python",
   "nbconvert_exporter": "python",
   "pygments_lexer": "ipython2",
   "version": "2.7.6"
  }
 },
 "nbformat": 4,
 "nbformat_minor": 0
}
