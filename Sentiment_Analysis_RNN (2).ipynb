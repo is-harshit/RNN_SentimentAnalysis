{
 "cells": [
  {
   "cell_type": "code",
   "execution_count": null,
   "id": "efa937df-a71f-4093-95b6-63f5ae0e2c06",
   "metadata": {
    "tags": [],
    "colab": {
     "base_uri": "https://localhost:8080/"
    },
    "id": "efa937df-a71f-4093-95b6-63f5ae0e2c06",
    "outputId": "32c65799-1566-4e78-c5e6-71f328c8b271"
   },
   "outputs": [
    {
     "output_type": "stream",
     "name": "stdout",
     "text": [
      "Requirement already satisfied: keras in /usr/local/lib/python3.10/dist-packages (2.15.0)\n"
     ]
    }
   ],
   "source": [
    "!pip install keras"
   ]
  },
  {
   "cell_type": "code",
   "execution_count": null,
   "id": "e5ec253c-28da-40a8-93af-4d5c3cb6c185",
   "metadata": {
    "tags": [],
    "colab": {
     "base_uri": "https://localhost:8080/"
    },
    "id": "e5ec253c-28da-40a8-93af-4d5c3cb6c185",
    "outputId": "e46a7cfb-cbbc-4d46-ac49-d7b48a3ed2c7"
   },
   "outputs": [
    {
     "output_type": "stream",
     "name": "stdout",
     "text": [
      "Requirement already satisfied: tensorflow in /usr/local/lib/python3.10/dist-packages (2.15.0)\n",
      "Requirement already satisfied: absl-py>=1.0.0 in /usr/local/lib/python3.10/dist-packages (from tensorflow) (1.4.0)\n",
      "Requirement already satisfied: astunparse>=1.6.0 in /usr/local/lib/python3.10/dist-packages (from tensorflow) (1.6.3)\n",
      "Requirement already satisfied: flatbuffers>=23.5.26 in /usr/local/lib/python3.10/dist-packages (from tensorflow) (24.3.25)\n",
      "Requirement already satisfied: gast!=0.5.0,!=0.5.1,!=0.5.2,>=0.2.1 in /usr/local/lib/python3.10/dist-packages (from tensorflow) (0.5.4)\n",
      "Requirement already satisfied: google-pasta>=0.1.1 in /usr/local/lib/python3.10/dist-packages (from tensorflow) (0.2.0)\n",
      "Requirement already satisfied: h5py>=2.9.0 in /usr/local/lib/python3.10/dist-packages (from tensorflow) (3.9.0)\n",
      "Requirement already satisfied: libclang>=13.0.0 in /usr/local/lib/python3.10/dist-packages (from tensorflow) (18.1.1)\n",
      "Requirement already satisfied: ml-dtypes~=0.2.0 in /usr/local/lib/python3.10/dist-packages (from tensorflow) (0.2.0)\n",
      "Requirement already satisfied: numpy<2.0.0,>=1.23.5 in /usr/local/lib/python3.10/dist-packages (from tensorflow) (1.25.2)\n",
      "Requirement already satisfied: opt-einsum>=2.3.2 in /usr/local/lib/python3.10/dist-packages (from tensorflow) (3.3.0)\n",
      "Requirement already satisfied: packaging in /usr/local/lib/python3.10/dist-packages (from tensorflow) (24.0)\n",
      "Requirement already satisfied: protobuf!=4.21.0,!=4.21.1,!=4.21.2,!=4.21.3,!=4.21.4,!=4.21.5,<5.0.0dev,>=3.20.3 in /usr/local/lib/python3.10/dist-packages (from tensorflow) (3.20.3)\n",
      "Requirement already satisfied: setuptools in /usr/local/lib/python3.10/dist-packages (from tensorflow) (67.7.2)\n",
      "Requirement already satisfied: six>=1.12.0 in /usr/local/lib/python3.10/dist-packages (from tensorflow) (1.16.0)\n",
      "Requirement already satisfied: termcolor>=1.1.0 in /usr/local/lib/python3.10/dist-packages (from tensorflow) (2.4.0)\n",
      "Requirement already satisfied: typing-extensions>=3.6.6 in /usr/local/lib/python3.10/dist-packages (from tensorflow) (4.11.0)\n",
      "Requirement already satisfied: wrapt<1.15,>=1.11.0 in /usr/local/lib/python3.10/dist-packages (from tensorflow) (1.14.1)\n",
      "Requirement already satisfied: tensorflow-io-gcs-filesystem>=0.23.1 in /usr/local/lib/python3.10/dist-packages (from tensorflow) (0.36.0)\n",
      "Requirement already satisfied: grpcio<2.0,>=1.24.3 in /usr/local/lib/python3.10/dist-packages (from tensorflow) (1.62.2)\n",
      "Requirement already satisfied: tensorboard<2.16,>=2.15 in /usr/local/lib/python3.10/dist-packages (from tensorflow) (2.15.2)\n",
      "Requirement already satisfied: tensorflow-estimator<2.16,>=2.15.0 in /usr/local/lib/python3.10/dist-packages (from tensorflow) (2.15.0)\n",
      "Requirement already satisfied: keras<2.16,>=2.15.0 in /usr/local/lib/python3.10/dist-packages (from tensorflow) (2.15.0)\n",
      "Requirement already satisfied: wheel<1.0,>=0.23.0 in /usr/local/lib/python3.10/dist-packages (from astunparse>=1.6.0->tensorflow) (0.43.0)\n",
      "Requirement already satisfied: google-auth<3,>=1.6.3 in /usr/local/lib/python3.10/dist-packages (from tensorboard<2.16,>=2.15->tensorflow) (2.27.0)\n",
      "Requirement already satisfied: google-auth-oauthlib<2,>=0.5 in /usr/local/lib/python3.10/dist-packages (from tensorboard<2.16,>=2.15->tensorflow) (1.2.0)\n",
      "Requirement already satisfied: markdown>=2.6.8 in /usr/local/lib/python3.10/dist-packages (from tensorboard<2.16,>=2.15->tensorflow) (3.6)\n",
      "Requirement already satisfied: requests<3,>=2.21.0 in /usr/local/lib/python3.10/dist-packages (from tensorboard<2.16,>=2.15->tensorflow) (2.31.0)\n",
      "Requirement already satisfied: tensorboard-data-server<0.8.0,>=0.7.0 in /usr/local/lib/python3.10/dist-packages (from tensorboard<2.16,>=2.15->tensorflow) (0.7.2)\n",
      "Requirement already satisfied: werkzeug>=1.0.1 in /usr/local/lib/python3.10/dist-packages (from tensorboard<2.16,>=2.15->tensorflow) (3.0.2)\n",
      "Requirement already satisfied: cachetools<6.0,>=2.0.0 in /usr/local/lib/python3.10/dist-packages (from google-auth<3,>=1.6.3->tensorboard<2.16,>=2.15->tensorflow) (5.3.3)\n",
      "Requirement already satisfied: pyasn1-modules>=0.2.1 in /usr/local/lib/python3.10/dist-packages (from google-auth<3,>=1.6.3->tensorboard<2.16,>=2.15->tensorflow) (0.4.0)\n",
      "Requirement already satisfied: rsa<5,>=3.1.4 in /usr/local/lib/python3.10/dist-packages (from google-auth<3,>=1.6.3->tensorboard<2.16,>=2.15->tensorflow) (4.9)\n",
      "Requirement already satisfied: requests-oauthlib>=0.7.0 in /usr/local/lib/python3.10/dist-packages (from google-auth-oauthlib<2,>=0.5->tensorboard<2.16,>=2.15->tensorflow) (1.3.1)\n",
      "Requirement already satisfied: charset-normalizer<4,>=2 in /usr/local/lib/python3.10/dist-packages (from requests<3,>=2.21.0->tensorboard<2.16,>=2.15->tensorflow) (3.3.2)\n",
      "Requirement already satisfied: idna<4,>=2.5 in /usr/local/lib/python3.10/dist-packages (from requests<3,>=2.21.0->tensorboard<2.16,>=2.15->tensorflow) (3.7)\n",
      "Requirement already satisfied: urllib3<3,>=1.21.1 in /usr/local/lib/python3.10/dist-packages (from requests<3,>=2.21.0->tensorboard<2.16,>=2.15->tensorflow) (2.0.7)\n",
      "Requirement already satisfied: certifi>=2017.4.17 in /usr/local/lib/python3.10/dist-packages (from requests<3,>=2.21.0->tensorboard<2.16,>=2.15->tensorflow) (2024.2.2)\n",
      "Requirement already satisfied: MarkupSafe>=2.1.1 in /usr/local/lib/python3.10/dist-packages (from werkzeug>=1.0.1->tensorboard<2.16,>=2.15->tensorflow) (2.1.5)\n",
      "Requirement already satisfied: pyasn1<0.7.0,>=0.4.6 in /usr/local/lib/python3.10/dist-packages (from pyasn1-modules>=0.2.1->google-auth<3,>=1.6.3->tensorboard<2.16,>=2.15->tensorflow) (0.6.0)\n",
      "Requirement already satisfied: oauthlib>=3.0.0 in /usr/local/lib/python3.10/dist-packages (from requests-oauthlib>=0.7.0->google-auth-oauthlib<2,>=0.5->tensorboard<2.16,>=2.15->tensorflow) (3.2.2)\n"
     ]
    }
   ],
   "source": [
    "!pip install tensorflow"
   ]
  },
  {
   "cell_type": "code",
   "source": [
    "!pip install streamlit"
   ],
   "metadata": {
    "colab": {
     "base_uri": "https://localhost:8080/"
    },
    "id": "fPmJ0zR1JT_I",
    "outputId": "b88697f0-9766-4c4f-d972-834eb3e5540e"
   },
   "id": "fPmJ0zR1JT_I",
   "execution_count": 59,
   "outputs": [
    {
     "output_type": "stream",
     "name": "stdout",
     "text": [
      "Collecting streamlit\n",
      "  Downloading streamlit-1.33.0-py2.py3-none-any.whl (8.1 MB)\n",
      "\u001B[2K     \u001B[90m━━━━━━━━━━━━━━━━━━━━━━━━━━━━━━━━━━━━━━━━\u001B[0m \u001B[32m8.1/8.1 MB\u001B[0m \u001B[31m15.4 MB/s\u001B[0m eta \u001B[36m0:00:00\u001B[0m\n",
      "\u001B[?25hRequirement already satisfied: altair<6,>=4.0 in /usr/local/lib/python3.10/dist-packages (from streamlit) (4.2.2)\n",
      "Requirement already satisfied: blinker<2,>=1.0.0 in /usr/lib/python3/dist-packages (from streamlit) (1.4)\n",
      "Requirement already satisfied: cachetools<6,>=4.0 in /usr/local/lib/python3.10/dist-packages (from streamlit) (5.3.3)\n",
      "Requirement already satisfied: click<9,>=7.0 in /usr/local/lib/python3.10/dist-packages (from streamlit) (8.1.7)\n",
      "Requirement already satisfied: numpy<2,>=1.19.3 in /usr/local/lib/python3.10/dist-packages (from streamlit) (1.25.2)\n",
      "Requirement already satisfied: packaging<25,>=16.8 in /usr/local/lib/python3.10/dist-packages (from streamlit) (24.0)\n",
      "Requirement already satisfied: pandas<3,>=1.3.0 in /usr/local/lib/python3.10/dist-packages (from streamlit) (2.0.3)\n",
      "Requirement already satisfied: pillow<11,>=7.1.0 in /usr/local/lib/python3.10/dist-packages (from streamlit) (9.4.0)\n",
      "Requirement already satisfied: protobuf<5,>=3.20 in /usr/local/lib/python3.10/dist-packages (from streamlit) (3.20.3)\n",
      "Requirement already satisfied: pyarrow>=7.0 in /usr/local/lib/python3.10/dist-packages (from streamlit) (14.0.2)\n",
      "Requirement already satisfied: requests<3,>=2.27 in /usr/local/lib/python3.10/dist-packages (from streamlit) (2.31.0)\n",
      "Requirement already satisfied: rich<14,>=10.14.0 in /usr/local/lib/python3.10/dist-packages (from streamlit) (13.7.1)\n",
      "Requirement already satisfied: tenacity<9,>=8.1.0 in /usr/local/lib/python3.10/dist-packages (from streamlit) (8.2.3)\n",
      "Requirement already satisfied: toml<2,>=0.10.1 in /usr/local/lib/python3.10/dist-packages (from streamlit) (0.10.2)\n",
      "Requirement already satisfied: typing-extensions<5,>=4.3.0 in /usr/local/lib/python3.10/dist-packages (from streamlit) (4.11.0)\n",
      "Collecting gitpython!=3.1.19,<4,>=3.0.7 (from streamlit)\n",
      "  Downloading GitPython-3.1.43-py3-none-any.whl (207 kB)\n",
      "\u001B[2K     \u001B[90m━━━━━━━━━━━━━━━━━━━━━━━━━━━━━━━━━━━━━━━━\u001B[0m \u001B[32m207.3/207.3 kB\u001B[0m \u001B[31m14.0 MB/s\u001B[0m eta \u001B[36m0:00:00\u001B[0m\n",
      "\u001B[?25hCollecting pydeck<1,>=0.8.0b4 (from streamlit)\n",
      "  Downloading pydeck-0.9.0b1-py2.py3-none-any.whl (5.8 MB)\n",
      "\u001B[2K     \u001B[90m━━━━━━━━━━━━━━━━━━━━━━━━━━━━━━━━━━━━━━━━\u001B[0m \u001B[32m5.8/5.8 MB\u001B[0m \u001B[31m31.3 MB/s\u001B[0m eta \u001B[36m0:00:00\u001B[0m\n",
      "\u001B[?25hRequirement already satisfied: tornado<7,>=6.0.3 in /usr/local/lib/python3.10/dist-packages (from streamlit) (6.3.3)\n",
      "Collecting watchdog>=2.1.5 (from streamlit)\n",
      "  Downloading watchdog-4.0.0-py3-none-manylinux2014_x86_64.whl (82 kB)\n",
      "\u001B[2K     \u001B[90m━━━━━━━━━━━━━━━━━━━━━━━━━━━━━━━━━━━━━━━━\u001B[0m \u001B[32m83.0/83.0 kB\u001B[0m \u001B[31m8.4 MB/s\u001B[0m eta \u001B[36m0:00:00\u001B[0m\n",
      "\u001B[?25hRequirement already satisfied: entrypoints in /usr/local/lib/python3.10/dist-packages (from altair<6,>=4.0->streamlit) (0.4)\n",
      "Requirement already satisfied: jinja2 in /usr/local/lib/python3.10/dist-packages (from altair<6,>=4.0->streamlit) (3.1.3)\n",
      "Requirement already satisfied: jsonschema>=3.0 in /usr/local/lib/python3.10/dist-packages (from altair<6,>=4.0->streamlit) (4.19.2)\n",
      "Requirement already satisfied: toolz in /usr/local/lib/python3.10/dist-packages (from altair<6,>=4.0->streamlit) (0.12.1)\n",
      "Collecting gitdb<5,>=4.0.1 (from gitpython!=3.1.19,<4,>=3.0.7->streamlit)\n",
      "  Downloading gitdb-4.0.11-py3-none-any.whl (62 kB)\n",
      "\u001B[2K     \u001B[90m━━━━━━━━━━━━━━━━━━━━━━━━━━━━━━━━━━━━━━━━\u001B[0m \u001B[32m62.7/62.7 kB\u001B[0m \u001B[31m6.1 MB/s\u001B[0m eta \u001B[36m0:00:00\u001B[0m\n",
      "\u001B[?25hRequirement already satisfied: python-dateutil>=2.8.2 in /usr/local/lib/python3.10/dist-packages (from pandas<3,>=1.3.0->streamlit) (2.8.2)\n",
      "Requirement already satisfied: pytz>=2020.1 in /usr/local/lib/python3.10/dist-packages (from pandas<3,>=1.3.0->streamlit) (2023.4)\n",
      "Requirement already satisfied: tzdata>=2022.1 in /usr/local/lib/python3.10/dist-packages (from pandas<3,>=1.3.0->streamlit) (2024.1)\n",
      "Requirement already satisfied: charset-normalizer<4,>=2 in /usr/local/lib/python3.10/dist-packages (from requests<3,>=2.27->streamlit) (3.3.2)\n",
      "Requirement already satisfied: idna<4,>=2.5 in /usr/local/lib/python3.10/dist-packages (from requests<3,>=2.27->streamlit) (3.7)\n",
      "Requirement already satisfied: urllib3<3,>=1.21.1 in /usr/local/lib/python3.10/dist-packages (from requests<3,>=2.27->streamlit) (2.0.7)\n",
      "Requirement already satisfied: certifi>=2017.4.17 in /usr/local/lib/python3.10/dist-packages (from requests<3,>=2.27->streamlit) (2024.2.2)\n",
      "Requirement already satisfied: markdown-it-py>=2.2.0 in /usr/local/lib/python3.10/dist-packages (from rich<14,>=10.14.0->streamlit) (3.0.0)\n",
      "Requirement already satisfied: pygments<3.0.0,>=2.13.0 in /usr/local/lib/python3.10/dist-packages (from rich<14,>=10.14.0->streamlit) (2.16.1)\n",
      "Collecting smmap<6,>=3.0.1 (from gitdb<5,>=4.0.1->gitpython!=3.1.19,<4,>=3.0.7->streamlit)\n",
      "  Downloading smmap-5.0.1-py3-none-any.whl (24 kB)\n",
      "Requirement already satisfied: MarkupSafe>=2.0 in /usr/local/lib/python3.10/dist-packages (from jinja2->altair<6,>=4.0->streamlit) (2.1.5)\n",
      "Requirement already satisfied: attrs>=22.2.0 in /usr/local/lib/python3.10/dist-packages (from jsonschema>=3.0->altair<6,>=4.0->streamlit) (23.2.0)\n",
      "Requirement already satisfied: jsonschema-specifications>=2023.03.6 in /usr/local/lib/python3.10/dist-packages (from jsonschema>=3.0->altair<6,>=4.0->streamlit) (2023.12.1)\n",
      "Requirement already satisfied: referencing>=0.28.4 in /usr/local/lib/python3.10/dist-packages (from jsonschema>=3.0->altair<6,>=4.0->streamlit) (0.34.0)\n",
      "Requirement already satisfied: rpds-py>=0.7.1 in /usr/local/lib/python3.10/dist-packages (from jsonschema>=3.0->altair<6,>=4.0->streamlit) (0.18.0)\n",
      "Requirement already satisfied: mdurl~=0.1 in /usr/local/lib/python3.10/dist-packages (from markdown-it-py>=2.2.0->rich<14,>=10.14.0->streamlit) (0.1.2)\n",
      "Requirement already satisfied: six>=1.5 in /usr/local/lib/python3.10/dist-packages (from python-dateutil>=2.8.2->pandas<3,>=1.3.0->streamlit) (1.16.0)\n",
      "Installing collected packages: watchdog, smmap, pydeck, gitdb, gitpython, streamlit\n",
      "Successfully installed gitdb-4.0.11 gitpython-3.1.43 pydeck-0.9.0b1 smmap-5.0.1 streamlit-1.33.0 watchdog-4.0.0\n"
     ]
    }
   ]
  },
  {
   "cell_type": "code",
   "execution_count": null,
   "id": "0947ad9e-67e2-4e4c-bff4-3c4b361de436",
   "metadata": {
    "id": "0947ad9e-67e2-4e4c-bff4-3c4b361de436"
   },
   "outputs": [],
   "source": [
    "#https://www.youtube.com/watch?v=eMPQw7Xbjd0"
   ]
  },
  {
   "cell_type": "code",
   "execution_count": 1,
   "id": "95b4a1c5-f3ed-479b-b922-564b21e110f2",
   "metadata": {
    "colab": {
     "base_uri": "https://localhost:8080/"
    },
    "id": "95b4a1c5-f3ed-479b-b922-564b21e110f2",
    "outputId": "d83a91ec-d9ae-4d03-ebb0-4f6054962057"
   },
   "outputs": [
    {
     "output_type": "stream",
     "name": "stdout",
     "text": [
      "Mounted at /content/drive\n"
     ]
    }
   ],
   "source": [
    "from google.colab import drive\n",
    "drive.mount(\"/content/drive\")\n",
    "import os\n",
    "import pandas as pd"
   ]
  },
  {
   "cell_type": "code",
   "execution_count": 1,
   "outputs": [],
   "source": [
    "import pandas as pd"
   ],
   "metadata": {
    "collapsed": false
   }
  },
  {
   "cell_type": "code",
   "source": [
    "os.chdir(\"/content/drive/My Drive/Nova/SEE_Project\")"
   ],
   "metadata": {
    "id": "iCpMv-nHJEqL"
   },
   "id": "iCpMv-nHJEqL",
   "execution_count": 2,
   "outputs": [
    {
     "ename": "NameError",
     "evalue": "name 'os' is not defined",
     "output_type": "error",
     "traceback": [
      "\u001B[1;31m---------------------------------------------------------------------------\u001B[0m",
      "\u001B[1;31mNameError\u001B[0m                                 Traceback (most recent call last)",
      "Cell \u001B[1;32mIn[2], line 1\u001B[0m\n\u001B[1;32m----> 1\u001B[0m \u001B[43mos\u001B[49m\u001B[38;5;241m.\u001B[39mchdir(\u001B[38;5;124m\"\u001B[39m\u001B[38;5;124m/content/drive/My Drive/Nova/SEE_Project\u001B[39m\u001B[38;5;124m\"\u001B[39m)\n",
      "\u001B[1;31mNameError\u001B[0m: name 'os' is not defined"
     ]
    }
   ]
  },
  {
   "cell_type": "code",
   "source": [
    "os.getcwd()"
   ],
   "metadata": {
    "colab": {
     "base_uri": "https://localhost:8080/",
     "height": 36
    },
    "id": "jcxeufjoJTHF",
    "outputId": "d2bb0fa5-5c81-4959-fdcb-98139d549535"
   },
   "id": "jcxeufjoJTHF",
   "execution_count": 3,
   "outputs": [
    {
     "output_type": "execute_result",
     "data": {
      "text/plain": [
       "'/content/drive/My Drive/Nova/SEE_Project'"
      ],
      "application/vnd.google.colaboratory.intrinsic+json": {
       "type": "string"
      }
     },
     "metadata": {},
     "execution_count": 3
    }
   ]
  },
  {
   "cell_type": "code",
   "execution_count": 2,
   "id": "20681bc9-d525-44ad-bc88-cc96284c1ca6",
   "metadata": {
    "tags": [],
    "colab": {
     "base_uri": "https://localhost:8080/",
     "height": 423
    },
    "id": "20681bc9-d525-44ad-bc88-cc96284c1ca6",
    "outputId": "25f71ec8-de36-4673-9d59-e055eedc6561"
   },
   "outputs": [
    {
     "data": {
      "text/plain": "      Unnamed: 0                                           sentence  label\n0              0                           Wow... Loved this place.      1\n1              1                                 Crust is not good.      0\n2              2          Not tasty and the texture was just nasty.      0\n3              3  Stopped by during the late May bank holiday of...      1\n4              4  The selection on the menu was great and so wer...      1\n...          ...                                                ...    ...\n4996        4996  The restaurant's new chef from a Michelin-star...      0\n4997        4997  The fitness boot camp's new app tracks partici...      1\n4998        4998  The local theater's new experimental space all...      0\n4999        4999  The annual craft fair's new live stream option...      1\n5000        5000  The hotel's new themed rooms, each decorated a...      0\n\n[5001 rows x 3 columns]",
      "text/html": "<div>\n<style scoped>\n    .dataframe tbody tr th:only-of-type {\n        vertical-align: middle;\n    }\n\n    .dataframe tbody tr th {\n        vertical-align: top;\n    }\n\n    .dataframe thead th {\n        text-align: right;\n    }\n</style>\n<table border=\"1\" class=\"dataframe\">\n  <thead>\n    <tr style=\"text-align: right;\">\n      <th></th>\n      <th>Unnamed: 0</th>\n      <th>sentence</th>\n      <th>label</th>\n    </tr>\n  </thead>\n  <tbody>\n    <tr>\n      <th>0</th>\n      <td>0</td>\n      <td>Wow... Loved this place.</td>\n      <td>1</td>\n    </tr>\n    <tr>\n      <th>1</th>\n      <td>1</td>\n      <td>Crust is not good.</td>\n      <td>0</td>\n    </tr>\n    <tr>\n      <th>2</th>\n      <td>2</td>\n      <td>Not tasty and the texture was just nasty.</td>\n      <td>0</td>\n    </tr>\n    <tr>\n      <th>3</th>\n      <td>3</td>\n      <td>Stopped by during the late May bank holiday of...</td>\n      <td>1</td>\n    </tr>\n    <tr>\n      <th>4</th>\n      <td>4</td>\n      <td>The selection on the menu was great and so wer...</td>\n      <td>1</td>\n    </tr>\n    <tr>\n      <th>...</th>\n      <td>...</td>\n      <td>...</td>\n      <td>...</td>\n    </tr>\n    <tr>\n      <th>4996</th>\n      <td>4996</td>\n      <td>The restaurant's new chef from a Michelin-star...</td>\n      <td>0</td>\n    </tr>\n    <tr>\n      <th>4997</th>\n      <td>4997</td>\n      <td>The fitness boot camp's new app tracks partici...</td>\n      <td>1</td>\n    </tr>\n    <tr>\n      <th>4998</th>\n      <td>4998</td>\n      <td>The local theater's new experimental space all...</td>\n      <td>0</td>\n    </tr>\n    <tr>\n      <th>4999</th>\n      <td>4999</td>\n      <td>The annual craft fair's new live stream option...</td>\n      <td>1</td>\n    </tr>\n    <tr>\n      <th>5000</th>\n      <td>5000</td>\n      <td>The hotel's new themed rooms, each decorated a...</td>\n      <td>0</td>\n    </tr>\n  </tbody>\n</table>\n<p>5001 rows × 3 columns</p>\n</div>"
     },
     "execution_count": 2,
     "metadata": {},
     "output_type": "execute_result"
    }
   ],
   "source": [
    "df=pd.read_csv('sentiment_dataset.csv')\n",
    "# df=pd.read_csv(\"Clothing.csv\")\n",
    "df"
   ]
  },
  {
   "cell_type": "code",
   "source": [
    "df.isna().sum()"
   ],
   "metadata": {
    "colab": {
     "base_uri": "https://localhost:8080/"
    },
    "id": "nCYzZ9HS5yHp",
    "outputId": "230f0580-3fa8-4f9e-9b9e-5f2011e3b7e5"
   },
   "id": "nCYzZ9HS5yHp",
   "execution_count": 3,
   "outputs": [
    {
     "data": {
      "text/plain": "Unnamed: 0    0\nsentence      0\nlabel         0\ndtype: int64"
     },
     "execution_count": 3,
     "metadata": {},
     "output_type": "execute_result"
    }
   ]
  },
  {
   "cell_type": "markdown",
   "id": "e76fa85b-324e-46f5-85c5-6635340752bd",
   "metadata": {
    "id": "e76fa85b-324e-46f5-85c5-6635340752bd"
   },
   "source": [
    "## Pre-processing"
   ]
  },
  {
   "cell_type": "code",
   "execution_count": 4,
   "id": "367626d8-a369-4677-949e-fdc65e4b6e28",
   "metadata": {
    "tags": [],
    "colab": {
     "base_uri": "https://localhost:8080/"
    },
    "id": "367626d8-a369-4677-949e-fdc65e4b6e28",
    "outputId": "472fc8af-8e66-4e12-843b-9721e526b9c1"
   },
   "outputs": [
    {
     "data": {
      "text/plain": "(5001, 3)"
     },
     "execution_count": 4,
     "metadata": {},
     "output_type": "execute_result"
    }
   ],
   "source": [
    "df.shape"
   ]
  },
  {
   "cell_type": "code",
   "execution_count": 5,
   "id": "fcc59aec-f16c-47f8-a34f-ed411426f0e8",
   "metadata": {
    "tags": [],
    "colab": {
     "base_uri": "https://localhost:8080/"
    },
    "id": "fcc59aec-f16c-47f8-a34f-ed411426f0e8",
    "outputId": "be43e7d4-d5f7-42db-fd6a-383db142f6d1"
   },
   "outputs": [
    {
     "data": {
      "text/plain": "Index(['Unnamed: 0', 'sentence', 'label'], dtype='object')"
     },
     "execution_count": 5,
     "metadata": {},
     "output_type": "execute_result"
    }
   ],
   "source": [
    "df.columns"
   ]
  },
  {
   "cell_type": "code",
   "source": [
    "df.label.value_counts()"
   ],
   "metadata": {
    "colab": {
     "base_uri": "https://localhost:8080/"
    },
    "id": "iuu-74KkYU9U",
    "outputId": "a7e3a432-659e-4808-d4f8-1dca03aabfb3"
   },
   "id": "iuu-74KkYU9U",
   "execution_count": 6,
   "outputs": [
    {
     "data": {
      "text/plain": "label\n1    2899\n0    2102\nName: count, dtype: int64"
     },
     "execution_count": 6,
     "metadata": {},
     "output_type": "execute_result"
    }
   ]
  },
  {
   "cell_type": "code",
   "execution_count": 7,
   "id": "c19c6841-00ac-481b-98cd-62dfbb4c8f1a",
   "metadata": {
    "tags": [],
    "id": "c19c6841-00ac-481b-98cd-62dfbb4c8f1a"
   },
   "outputs": [],
   "source": [
    "df1=df.drop(['Unnamed: 0'],axis=1) #axis indicates that the columns should be dropped"
   ]
  },
  {
   "cell_type": "code",
   "source": [
    "df1.shape"
   ],
   "metadata": {
    "colab": {
     "base_uri": "https://localhost:8080/"
    },
    "id": "jwyxIViLpUpy",
    "outputId": "973bc9bc-7c34-4b79-c05e-94f66ef6811f"
   },
   "id": "jwyxIViLpUpy",
   "execution_count": 8,
   "outputs": [
    {
     "data": {
      "text/plain": "(5001, 2)"
     },
     "execution_count": 8,
     "metadata": {},
     "output_type": "execute_result"
    }
   ]
  },
  {
   "cell_type": "code",
   "execution_count": 9,
   "id": "6e9f7d0b-3cbf-44a5-99c3-094d8243b7a6",
   "metadata": {
    "tags": [],
    "colab": {
     "base_uri": "https://localhost:8080/",
     "height": 206
    },
    "id": "6e9f7d0b-3cbf-44a5-99c3-094d8243b7a6",
    "outputId": "a15057cf-362a-4b4b-e406-91f3c4df3fc1"
   },
   "outputs": [
    {
     "data": {
      "text/plain": "                                            sentence  label\n0                           Wow... Loved this place.      1\n1                                 Crust is not good.      0\n2          Not tasty and the texture was just nasty.      0\n3  Stopped by during the late May bank holiday of...      1\n4  The selection on the menu was great and so wer...      1",
      "text/html": "<div>\n<style scoped>\n    .dataframe tbody tr th:only-of-type {\n        vertical-align: middle;\n    }\n\n    .dataframe tbody tr th {\n        vertical-align: top;\n    }\n\n    .dataframe thead th {\n        text-align: right;\n    }\n</style>\n<table border=\"1\" class=\"dataframe\">\n  <thead>\n    <tr style=\"text-align: right;\">\n      <th></th>\n      <th>sentence</th>\n      <th>label</th>\n    </tr>\n  </thead>\n  <tbody>\n    <tr>\n      <th>0</th>\n      <td>Wow... Loved this place.</td>\n      <td>1</td>\n    </tr>\n    <tr>\n      <th>1</th>\n      <td>Crust is not good.</td>\n      <td>0</td>\n    </tr>\n    <tr>\n      <th>2</th>\n      <td>Not tasty and the texture was just nasty.</td>\n      <td>0</td>\n    </tr>\n    <tr>\n      <th>3</th>\n      <td>Stopped by during the late May bank holiday of...</td>\n      <td>1</td>\n    </tr>\n    <tr>\n      <th>4</th>\n      <td>The selection on the menu was great and so wer...</td>\n      <td>1</td>\n    </tr>\n  </tbody>\n</table>\n</div>"
     },
     "execution_count": 9,
     "metadata": {},
     "output_type": "execute_result"
    }
   ],
   "source": [
    "df1.head()"
   ]
  },
  {
   "cell_type": "code",
   "source": [
    "type(df1)"
   ],
   "metadata": {
    "colab": {
     "base_uri": "https://localhost:8080/",
     "height": 203
    },
    "id": "ihd9n4_SfONS",
    "outputId": "2cb1d8a1-5d0f-4513-8dd7-c96ecfef65e5"
   },
   "id": "ihd9n4_SfONS",
   "execution_count": 10,
   "outputs": [
    {
     "data": {
      "text/plain": "pandas.core.frame.DataFrame"
     },
     "execution_count": 10,
     "metadata": {},
     "output_type": "execute_result"
    }
   ]
  },
  {
   "cell_type": "code",
   "execution_count": 11,
   "id": "7d404996-b868-481b-ba2b-32a5938aedab",
   "metadata": {
    "tags": [],
    "id": "7d404996-b868-481b-ba2b-32a5938aedab"
   },
   "outputs": [],
   "source": [
    "x=df1['sentence']\n",
    "y=df1['label']\n",
    "\n",
    "# x=df1.iloc[:,0] #independent var\n",
    "# y=df1.iloc[:,1]\n",
    "\n"
   ]
  },
  {
   "cell_type": "code",
   "source": [
    "type(x)"
   ],
   "metadata": {
    "colab": {
     "base_uri": "https://localhost:8080/",
     "height": 203
    },
    "id": "1HCagMV9fSfR",
    "outputId": "e1eaa519-4b4f-4b8c-b58b-82bc8f3d3be5"
   },
   "id": "1HCagMV9fSfR",
   "execution_count": 12,
   "outputs": [
    {
     "data": {
      "text/plain": "pandas.core.series.Series"
     },
     "execution_count": 12,
     "metadata": {},
     "output_type": "execute_result"
    }
   ]
  },
  {
   "cell_type": "code",
   "source": [
    "x[:5]"
   ],
   "metadata": {
    "colab": {
     "base_uri": "https://localhost:8080/"
    },
    "id": "Wob7SoBoMOXM",
    "outputId": "d0e03079-4f28-4127-d32c-b46ecbda6cac"
   },
   "id": "Wob7SoBoMOXM",
   "execution_count": 13,
   "outputs": [
    {
     "data": {
      "text/plain": "0                             Wow... Loved this place.\n1                                   Crust is not good.\n2            Not tasty and the texture was just nasty.\n3    Stopped by during the late May bank holiday of...\n4    The selection on the menu was great and so wer...\nName: sentence, dtype: object"
     },
     "execution_count": 13,
     "metadata": {},
     "output_type": "execute_result"
    }
   ]
  },
  {
   "cell_type": "code",
   "source": [
    "y[:5]"
   ],
   "metadata": {
    "colab": {
     "base_uri": "https://localhost:8080/"
    },
    "id": "h-fzldi5MRxT",
    "outputId": "39c5f8e4-3095-4f60-d0c8-3ef3a8b9ec4e"
   },
   "id": "h-fzldi5MRxT",
   "execution_count": 14,
   "outputs": [
    {
     "data": {
      "text/plain": "0    1\n1    0\n2    0\n3    1\n4    1\nName: label, dtype: int64"
     },
     "execution_count": 14,
     "metadata": {},
     "output_type": "execute_result"
    }
   ]
  },
  {
   "cell_type": "code",
   "execution_count": 15,
   "id": "ddff54c7-2d89-4753-8ae5-fa65ba65df91",
   "metadata": {
    "tags": [],
    "id": "ddff54c7-2d89-4753-8ae5-fa65ba65df91"
   },
   "outputs": [],
   "source": [
    "from sklearn.model_selection import train_test_split\n",
    "X_train1,X_test1,y_train1,y_test1=train_test_split(x,y,test_size=0.12,random_state=42)"
   ]
  },
  {
   "cell_type": "code",
   "execution_count": 16,
   "id": "8b36d22e-5c15-4f96-a9ad-4ef7c91ff1b4",
   "metadata": {
    "tags": [],
    "colab": {
     "base_uri": "https://localhost:8080/"
    },
    "id": "8b36d22e-5c15-4f96-a9ad-4ef7c91ff1b4",
    "outputId": "2216b710-4690-4ba4-e6ed-4adc65ca30a3"
   },
   "outputs": [
    {
     "name": "stdout",
     "output_type": "stream",
     "text": [
      "Shape of X train: (4400,)\n",
      "Shape of X test: (601,)\n",
      "Shape of Y train: (4400,)\n",
      "Shape of Y test: (601,)\n"
     ]
    }
   ],
   "source": [
    "print(\"Shape of X train:\",X_train1.shape)\n",
    "print(\"Shape of X test:\",X_test1.shape)\n",
    "print(\"Shape of Y train:\",y_train1.shape)\n",
    "print(\"Shape of Y test:\",y_test1.shape)"
   ]
  },
  {
   "cell_type": "code",
   "execution_count": 17,
   "id": "508fbd89-3856-47a6-8721-5aac469e578b",
   "metadata": {
    "tags": [],
    "colab": {
     "base_uri": "https://localhost:8080/"
    },
    "id": "508fbd89-3856-47a6-8721-5aac469e578b",
    "outputId": "6dbfe79e-89ec-4f12-d4d6-34784a7bcf06"
   },
   "outputs": [
    {
     "name": "stdout",
     "output_type": "stream",
     "text": [
      "4351    The health workshop's expansion to include men...\n",
      "1192                         I had a horrible experience.\n",
      "4588    The street food market's new app-based orderin...\n",
      "4511    The cinema's new film critique club encourages...\n",
      "3670    The annual craft fair now includes live crafti...\n",
      "Name: sentence, dtype: object\n"
     ]
    },
    {
     "data": {
      "text/plain": "4351    1\n1192    0\n4588    0\n4511    1\n3670    1\nName: label, dtype: int64"
     },
     "execution_count": 17,
     "metadata": {},
     "output_type": "execute_result"
    }
   ],
   "source": [
    "print(X_train1[:5])\n",
    "y_train1[:5]"
   ]
  },
  {
   "cell_type": "code",
   "execution_count": 18,
   "id": "9e91c460-dc21-4457-bb91-6d6892576f4a",
   "metadata": {
    "tags": [],
    "id": "9e91c460-dc21-4457-bb91-6d6892576f4a"
   },
   "outputs": [],
   "source": [
    "from tensorflow.keras.preprocessing.text import Tokenizer\n",
    "\n",
    "# Create a Tokenizer object with vocabulary size of 1000\n",
    "tokenizer = Tokenizer(num_words=1000, lower=True)"
   ]
  },
  {
   "cell_type": "code",
   "source": [
    "X_train1"
   ],
   "metadata": {
    "colab": {
     "base_uri": "https://localhost:8080/"
    },
    "id": "aqJHb-7BXSXB",
    "outputId": "ea7eecc0-b37e-48b8-d539-c865ccf36f19"
   },
   "id": "aqJHb-7BXSXB",
   "execution_count": 19,
   "outputs": [
    {
     "data": {
      "text/plain": "4351    The health workshop's expansion to include men...\n1192                         I had a horrible experience.\n4588    The street food market's new app-based orderin...\n4511    The cinema's new film critique club encourages...\n3670    The annual craft fair now includes live crafti...\n                              ...                        \n4426    The community fair's new live music stage feat...\n466     I don't think I'll be running back to Carly's ...\n3092    The community center's new programs are divers...\n3772    The cinema's new early bird special offers dis...\n860     This place is pretty good, nice little vibe in...\nName: sentence, Length: 4400, dtype: object"
     },
     "execution_count": 19,
     "metadata": {},
     "output_type": "execute_result"
    }
   ]
  },
  {
   "cell_type": "code",
   "execution_count": 20,
   "id": "54fdf122-0f86-4f8d-8c0e-30995da55b61",
   "metadata": {
    "tags": [],
    "colab": {
     "base_uri": "https://localhost:8080/"
    },
    "id": "54fdf122-0f86-4f8d-8c0e-30995da55b61",
    "outputId": "de57cf0b-e67f-4a7a-cc2f-852fcad47a8c"
   },
   "outputs": [
    {
     "name": "stdout",
     "output_type": "stream",
     "text": [
      "True\n"
     ]
    }
   ],
   "source": [
    "# Convert all elements in X_train and X_test to strings\n",
    "X_train2 = [str(x) for x in X_train1]\n",
    "X_test2 = [str(x) for x in X_test1]\n",
    "\n",
    "# Verify that all elements are strings\n",
    "print(all(isinstance(x, str) for x in X_train2))  # Should print True if all elements are strings"
   ]
  },
  {
   "cell_type": "code",
   "source": [
    "X_train2[:5]"
   ],
   "metadata": {
    "colab": {
     "base_uri": "https://localhost:8080/"
    },
    "id": "xTfx3dVUMnsi",
    "outputId": "cae26f35-b8b2-4604-eebd-22da07a3522e"
   },
   "id": "xTfx3dVUMnsi",
   "execution_count": 21,
   "outputs": [
    {
     "data": {
      "text/plain": "[\"The health workshop's expansion to include mental health topics addresses the growing awareness of mental wellness.\",\n 'I had a horrible experience.',\n \"The street food market's new app-based ordering system reduces wait times and allows for more efficient service.\",\n \"The cinema's new film critique club encourages discussions and analysis of films shown at the cinema, engaging the community of film enthusiasts.\",\n 'The annual craft fair now includes live crafting demonstrations, offering attendees the chance to learn new skills.']"
     },
     "execution_count": 21,
     "metadata": {},
     "output_type": "execute_result"
    }
   ]
  },
  {
   "cell_type": "code",
   "execution_count": 22,
   "id": "95ef01b0-69d8-4ab7-a8b7-651b988b9505",
   "metadata": {
    "tags": [],
    "colab": {
     "base_uri": "https://localhost:8080/"
    },
    "id": "95ef01b0-69d8-4ab7-a8b7-651b988b9505",
    "outputId": "876162fb-ffe5-46a9-e995-60277e8f34c4"
   },
   "outputs": [
    {
     "data": {
      "text/plain": "3897"
     },
     "execution_count": 22,
     "metadata": {},
     "output_type": "execute_result"
    }
   ],
   "source": [
    "# Fit the Tokenizer on the training data\n",
    "tokenizer.fit_on_texts(X_train2)\n",
    "\n",
    "# Convert the text data to sequences of integers using the fitted Tokenizer\n",
    "X_train3 = tokenizer.texts_to_sequences(X_train2)\n",
    "X_test3 = tokenizer.texts_to_sequences(X_test2)\n",
    "\n",
    "# Determine the vocabulary size (number of unique words)\n",
    "vocab_size = len(tokenizer.word_index) + 1\n",
    "vocab_size"
   ]
  },
  {
   "cell_type": "code",
   "execution_count": 23,
   "id": "0873a81c-efc2-4b91-9645-2e856010a7cf",
   "metadata": {
    "tags": [],
    "colab": {
     "base_uri": "https://localhost:8080/"
    },
    "id": "0873a81c-efc2-4b91-9645-2e856010a7cf",
    "outputId": "3336d5d6-d9e1-4a7e-ae85-41d8f2674ca5"
   },
   "outputs": [
    {
     "data": {
      "text/plain": "[1, 19, 110, 253, 6, 123, 254, 19, 560, 650, 1, 337, 561, 7, 254, 79]"
     },
     "execution_count": 23,
     "metadata": {},
     "output_type": "execute_result"
    }
   ],
   "source": [
    "X_train3[0]"
   ]
  },
  {
   "cell_type": "code",
   "source": [
    "y_train1[:5]"
   ],
   "metadata": {
    "colab": {
     "base_uri": "https://localhost:8080/"
    },
    "id": "i4suRw3-Lnky",
    "outputId": "8c0392aa-2ac3-44c3-b0a6-1b224486f113"
   },
   "id": "i4suRw3-Lnky",
   "execution_count": 24,
   "outputs": [
    {
     "data": {
      "text/plain": "4351    1\n1192    0\n4588    0\n4511    1\n3670    1\nName: label, dtype: int64"
     },
     "execution_count": 24,
     "metadata": {},
     "output_type": "execute_result"
    }
   ]
  },
  {
   "cell_type": "code",
   "source": [
    "maxlenTrain=max(len(x) for x in X_train3)\n",
    "maxlenTrain"
   ],
   "metadata": {
    "colab": {
     "base_uri": "https://localhost:8080/"
    },
    "id": "WyxHQ9RHNtdC",
    "outputId": "ba4c233e-9c59-4a0f-d2ec-408e02bb4bd8"
   },
   "id": "WyxHQ9RHNtdC",
   "execution_count": 25,
   "outputs": [
    {
     "data": {
      "text/plain": "28"
     },
     "execution_count": 25,
     "metadata": {},
     "output_type": "execute_result"
    }
   ]
  },
  {
   "cell_type": "code",
   "source": [
    "maxlenTest=max(len(x) for x in X_test3)\n",
    "maxlenTest"
   ],
   "metadata": {
    "colab": {
     "base_uri": "https://localhost:8080/"
    },
    "id": "DI_5NXg_N8Yf",
    "outputId": "1cb39cf3-372b-4dde-d8f6-69564b29a331"
   },
   "id": "DI_5NXg_N8Yf",
   "execution_count": 26,
   "outputs": [
    {
     "data": {
      "text/plain": "27"
     },
     "execution_count": 26,
     "metadata": {},
     "output_type": "execute_result"
    }
   ]
  },
  {
   "cell_type": "code",
   "execution_count": 27,
   "id": "0cdc0e69-853f-49a4-89b1-e301e49d454c",
   "metadata": {
    "tags": [],
    "id": "0cdc0e69-853f-49a4-89b1-e301e49d454c"
   },
   "outputs": [],
   "source": [
    "from keras.preprocessing.sequence import pad_sequences\n",
    "maxlen=max(maxlenTest,maxlenTrain)\n",
    "X_train =pad_sequences(X_train3,padding='post',maxlen=maxlen)\n",
    "X_test =pad_sequences(X_test3,padding='post',maxlen=maxlen)"
   ]
  },
  {
   "cell_type": "code",
   "execution_count": 28,
   "id": "58f26a3c-3fa0-41ab-91fd-5c8b312b61cb",
   "metadata": {
    "tags": [],
    "colab": {
     "base_uri": "https://localhost:8080/"
    },
    "id": "58f26a3c-3fa0-41ab-91fd-5c8b312b61cb",
    "outputId": "6e2e0180-f5bf-4043-cef8-ae58944c0589"
   },
   "outputs": [
    {
     "name": "stdout",
     "output_type": "stream",
     "text": [
      "[[  1  19 110 253   6 123 254  19 560 650   1 337 561   7 254  79   0   0\n",
      "    0   0   0   0   0   0   0   0   0   0]\n",
      " [ 12  39   5 700  42   0   0   0   0   0   0   0   0   0   0   0   0   0\n",
      "    0   0   0   0   0   0   0   0   0   0]\n",
      " [  1  82  10 139   3  83 310 443 208 756 181 195   2  71   8  29 524  16\n",
      "    0   0   0   0   0   0   0   0   0   0]\n",
      " [  1  52   3 111 701 389 216 444   2 651   7 338 702  26   1 286 196   1\n",
      "   33   7 111 114   0   0   0   0   0   0]\n",
      " [  1  20  64  88 103  43  69 106 153 264   1   6 405   3 390   0   0   0\n",
      "    0   0   0   0   0   0   0   0   0   0]]\n"
     ]
    }
   ],
   "source": [
    "print(X_train[:5])"
   ]
  },
  {
   "cell_type": "code",
   "source": [
    "y_train1[:10]"
   ],
   "metadata": {
    "colab": {
     "base_uri": "https://localhost:8080/"
    },
    "id": "O7SHIZpxQIO-",
    "outputId": "3c152b13-31d6-4f02-b5e0-4b8a13784dd8"
   },
   "id": "O7SHIZpxQIO-",
   "execution_count": 29,
   "outputs": [
    {
     "data": {
      "text/plain": "4351    1\n1192    0\n4588    0\n4511    1\n3670    1\n624     1\n2796    1\n4292    0\n4969    1\n233     0\nName: label, dtype: int64"
     },
     "execution_count": 29,
     "metadata": {},
     "output_type": "execute_result"
    }
   ]
  },
  {
   "cell_type": "code",
   "execution_count": 30,
   "id": "e4bc2638-49d8-46cb-bcec-f2f39f99e28f",
   "metadata": {
    "tags": [],
    "colab": {
     "base_uri": "https://localhost:8080/"
    },
    "id": "e4bc2638-49d8-46cb-bcec-f2f39f99e28f",
    "outputId": "074bb70c-0d21-4a17-c6dc-b4bb1633c095"
   },
   "outputs": [
    {
     "name": "stdout",
     "output_type": "stream",
     "text": [
      "(4400, 2)\n",
      "[0. 1.]\n"
     ]
    }
   ],
   "source": [
    "from keras.utils import to_categorical\n",
    "num_classes=2\n",
    "y_train=to_categorical(y_train1,num_classes)\n",
    "y_test=to_categorical(y_test1,num_classes)\n",
    "\n",
    "print(y_train.shape)\n",
    "print(y_train[0])"
   ]
  },
  {
   "cell_type": "code",
   "source": [
    "y_train[:10]"
   ],
   "metadata": {
    "colab": {
     "base_uri": "https://localhost:8080/"
    },
    "id": "4eut_JCpQO9A",
    "outputId": "3fafe34a-fcb7-41be-cf78-782bf0b81fc0"
   },
   "id": "4eut_JCpQO9A",
   "execution_count": 31,
   "outputs": [
    {
     "data": {
      "text/plain": "array([[0., 1.],\n       [1., 0.],\n       [1., 0.],\n       [0., 1.],\n       [0., 1.],\n       [0., 1.],\n       [0., 1.],\n       [1., 0.],\n       [0., 1.],\n       [1., 0.]], dtype=float32)"
     },
     "execution_count": 31,
     "metadata": {},
     "output_type": "execute_result"
    }
   ]
  },
  {
   "cell_type": "code",
   "source": [
    "y_train=y_train1\n",
    "y_test=y_test1"
   ],
   "metadata": {
    "id": "C4edFNZQQxlS"
   },
   "id": "C4edFNZQQxlS",
   "execution_count": 32,
   "outputs": []
  },
  {
   "cell_type": "markdown",
   "id": "c37fae4b-f0ad-4673-8d41-cea431f14490",
   "metadata": {
    "id": "c37fae4b-f0ad-4673-8d41-cea431f14490"
   },
   "source": [
    "## Model"
   ]
  },
  {
   "cell_type": "code",
   "execution_count": 33,
   "id": "affffad8-7729-4371-9618-50444ed741cb",
   "metadata": {
    "tags": [],
    "colab": {
     "base_uri": "https://localhost:8080/"
    },
    "id": "affffad8-7729-4371-9618-50444ed741cb",
    "outputId": "f38b7bc6-1df7-4698-cc28-7a4d595a4fef"
   },
   "outputs": [
    {
     "name": "stdout",
     "output_type": "stream",
     "text": [
      "(4400, 28, 1)\n",
      "(601, 28, 1)\n"
     ]
    }
   ],
   "source": [
    "#converting to 3D\n",
    "from keras.models import Sequential\n",
    "from keras.layers import Dense,Dropout,Activation,SimpleRNN, Bidirectional, BatchNormalization,LSTM\n",
    "from keras import optimizers\n",
    "from tensorflow.keras.optimizers import Adam\n",
    "from keras.preprocessing.sequence import pad_sequences\n",
    "import numpy as np\n",
    "\n",
    "X_train=np.array(X_train).reshape((X_train.shape[0],X_train.shape[1],1))\n",
    "print(X_train.shape)\n",
    "\n",
    "X_test=np.array(X_test).reshape((X_test.shape[0],X_test.shape[1],1))\n",
    "print(X_test.shape)"
   ]
  },
  {
   "cell_type": "code",
   "execution_count": 34,
   "id": "0b5f2f4a-3cca-4ce1-bc98-2ea3459726d3",
   "metadata": {
    "id": "0b5f2f4a-3cca-4ce1-bc98-2ea3459726d3"
   },
   "outputs": [],
   "source": [
    "# Adjust your vanilla RNN model to have a single output neuron with a sigmoid activation function\n",
    "def vanilla_rnn():\n",
    "    model = Sequential()\n",
    "    model.add(SimpleRNN(100, input_shape=(maxlen, 1), return_sequences=False))  # Reduced units to prevent overfitting\n",
    "    model.add(Dense(50, activation='relu'))  # Added ReLU activation\n",
    "    model.add(Dense(25, activation='relu'))  # Simplified architecture\n",
    "    model.add(Dense(1, activation='sigmoid'))\n",
    "\n",
    "    # Correctly use the custom optimizer with a specified learning rate\n",
    "    adam = optimizers.Adam(learning_rate=0.001)  # More typical learning rate\n",
    "    model.compile(loss='binary_crossentropy', optimizer=adam, metrics=['accuracy'])\n",
    "\n",
    "    return model"
   ]
  },
  {
   "cell_type": "code",
   "source": [
    "def vanilla_rnn1(learning_rate=0.001):\n",
    "    model = Sequential()\n",
    "    # Adding a Bidirectional RNN\n",
    "    model.add(Bidirectional(SimpleRNN(100, return_sequences=True), input_shape=(maxlen, 1)))\n",
    "    model.add(Dropout(0.25))\n",
    "    # Adding another RNN layer\n",
    "    model.add(SimpleRNN(50, return_sequences=False))\n",
    "    model.add(Dropout(0.25))\n",
    "    # Batch Normalization layer\n",
    "    model.add(BatchNormalization())\n",
    "    # More neurons in the Dense layer\n",
    "    model.add(Dense(128, activation='relu'))\n",
    "    model.add(Dropout(0.3))\n",
    "    # Output layer with sigmoid activation for binary classification\n",
    "    model.add(Dense(1, activation='sigmoid'))\n",
    "    model.summary()\n",
    "\n",
    "    # Using a better-suited learning rate for Adam optimizer\n",
    "    adam = optimizers.Adam(learning_rate=learning_rate)\n",
    "    model.compile(loss='binary_crossentropy', optimizer=adam, metrics=['accuracy'])\n",
    "\n",
    "    return model"
   ],
   "metadata": {
    "id": "j4SdA6e3RfhV"
   },
   "id": "j4SdA6e3RfhV",
   "execution_count": 35,
   "outputs": []
  },
  {
   "cell_type": "code",
   "source": [
    "def lstm_rnn_model():\n",
    "    model = Sequential()\n",
    "    # Using LSTM for improved sequence modeling\n",
    "    model.add(LSTM(100, input_shape=(maxlen, 1), return_sequences=False))  # LSTM with 100 units\n",
    "    model.add(Dense(50, activation='relu'))  # Intermediate layer with ReLU activation\n",
    "    model.add(Dense(25, activation='relu'))  # Another ReLU layer for additional processing\n",
    "    model.add(Dense(1, activation='sigmoid'))  # Output layer with sigmoid activation for binary classification\n",
    "\n",
    "    # Configure the optimizer with a commonly used learning rate\n",
    "    adam = optimizers.Adam(learning_rate=0.001)  # Optimizer with a learning rate of 0.001\n",
    "    model.compile(loss='binary_crossentropy', optimizer=adam, metrics=['accuracy'])\n",
    "\n",
    "    return model"
   ],
   "metadata": {
    "id": "-fJ9T9Je1Snl"
   },
   "id": "-fJ9T9Je1Snl",
   "execution_count": 36,
   "outputs": []
  },
  {
   "cell_type": "code",
   "source": [
    "# Convert target values to binary format (0 or 1)\n",
    "y_train_binary = np.array(y_train1)\n",
    "\n",
    "# Create the vanilla RNN model\n",
    "model = vanilla_rnn()"
   ],
   "metadata": {
    "id": "0sYyHLa6RpBI"
   },
   "id": "0sYyHLa6RpBI",
   "execution_count": 37,
   "outputs": []
  },
  {
   "cell_type": "code",
   "source": [
    "# model.load_weights(\"./Clothing_weights.h5\")"
   ],
   "metadata": {
    "id": "BtUk66guMyWK"
   },
   "id": "BtUk66guMyWK",
   "execution_count": null,
   "outputs": []
  },
  {
   "cell_type": "code",
   "source": [
    "# Fit the model to the training data\n",
    "model.fit(X_train, y_train, epochs=100, batch_size=64)"
   ],
   "metadata": {
    "colab": {
     "base_uri": "https://localhost:8080/"
    },
    "id": "ltgjhIwHRsIW",
    "outputId": "6c53efef-13c6-4b3c-a70c-8e474ba31700"
   },
   "id": "ltgjhIwHRsIW",
   "execution_count": 40,
   "outputs": [
    {
     "output_type": "stream",
     "name": "stdout",
     "text": [
      "Epoch 1/100\n",
      "69/69 [==============================] - 3s 16ms/step - loss: 0.6792 - accuracy: 0.5786\n",
      "Epoch 2/100\n",
      "69/69 [==============================] - 1s 16ms/step - loss: 0.6732 - accuracy: 0.5839\n",
      "Epoch 3/100\n",
      "69/69 [==============================] - 1s 10ms/step - loss: 0.6710 - accuracy: 0.5852\n",
      "Epoch 4/100\n",
      "69/69 [==============================] - 1s 10ms/step - loss: 0.6692 - accuracy: 0.5877\n",
      "Epoch 5/100\n",
      "69/69 [==============================] - 1s 10ms/step - loss: 0.6708 - accuracy: 0.5811\n",
      "Epoch 6/100\n",
      "69/69 [==============================] - 1s 10ms/step - loss: 0.6683 - accuracy: 0.5891\n",
      "Epoch 7/100\n",
      "69/69 [==============================] - 1s 10ms/step - loss: 0.6676 - accuracy: 0.5857\n",
      "Epoch 8/100\n",
      "69/69 [==============================] - 1s 10ms/step - loss: 0.6662 - accuracy: 0.5866\n",
      "Epoch 9/100\n",
      "69/69 [==============================] - 1s 10ms/step - loss: 0.6660 - accuracy: 0.5877\n",
      "Epoch 10/100\n",
      "69/69 [==============================] - 1s 10ms/step - loss: 0.6663 - accuracy: 0.5884\n",
      "Epoch 11/100\n",
      "69/69 [==============================] - 1s 10ms/step - loss: 0.6739 - accuracy: 0.5816\n",
      "Epoch 12/100\n",
      "69/69 [==============================] - 1s 10ms/step - loss: 0.6708 - accuracy: 0.5880\n",
      "Epoch 13/100\n",
      "69/69 [==============================] - 1s 10ms/step - loss: 0.6671 - accuracy: 0.5884\n",
      "Epoch 14/100\n",
      "69/69 [==============================] - 1s 10ms/step - loss: 0.6667 - accuracy: 0.5914\n",
      "Epoch 15/100\n",
      "69/69 [==============================] - 1s 10ms/step - loss: 0.6652 - accuracy: 0.5907\n",
      "Epoch 16/100\n",
      "69/69 [==============================] - 1s 10ms/step - loss: 0.6670 - accuracy: 0.5891\n",
      "Epoch 17/100\n",
      "69/69 [==============================] - 1s 15ms/step - loss: 0.6657 - accuracy: 0.5886\n",
      "Epoch 18/100\n",
      "69/69 [==============================] - 1s 15ms/step - loss: 0.6638 - accuracy: 0.5920\n",
      "Epoch 19/100\n",
      "69/69 [==============================] - 1s 16ms/step - loss: 0.6639 - accuracy: 0.5866\n",
      "Epoch 20/100\n",
      "69/69 [==============================] - 1s 16ms/step - loss: 0.6612 - accuracy: 0.6016\n",
      "Epoch 21/100\n",
      "69/69 [==============================] - 1s 13ms/step - loss: 0.6659 - accuracy: 0.5900\n",
      "Epoch 22/100\n",
      "69/69 [==============================] - 1s 10ms/step - loss: 0.6608 - accuracy: 0.5907\n",
      "Epoch 23/100\n",
      "69/69 [==============================] - 1s 10ms/step - loss: 0.6566 - accuracy: 0.6073\n",
      "Epoch 24/100\n",
      "69/69 [==============================] - 1s 10ms/step - loss: 0.6576 - accuracy: 0.5957\n",
      "Epoch 25/100\n",
      "69/69 [==============================] - 1s 10ms/step - loss: 0.6526 - accuracy: 0.6030\n",
      "Epoch 26/100\n",
      "69/69 [==============================] - 1s 10ms/step - loss: 0.6540 - accuracy: 0.6034\n",
      "Epoch 27/100\n",
      "69/69 [==============================] - 1s 10ms/step - loss: 0.6506 - accuracy: 0.6082\n",
      "Epoch 28/100\n",
      "69/69 [==============================] - 1s 10ms/step - loss: 0.6502 - accuracy: 0.6111\n",
      "Epoch 29/100\n",
      "69/69 [==============================] - 1s 10ms/step - loss: 0.6477 - accuracy: 0.6157\n",
      "Epoch 30/100\n",
      "69/69 [==============================] - 1s 10ms/step - loss: 0.6475 - accuracy: 0.6086\n",
      "Epoch 31/100\n",
      "69/69 [==============================] - 1s 10ms/step - loss: 0.6437 - accuracy: 0.6184\n",
      "Epoch 32/100\n",
      "69/69 [==============================] - 1s 10ms/step - loss: 0.6458 - accuracy: 0.6114\n",
      "Epoch 33/100\n",
      "69/69 [==============================] - 1s 10ms/step - loss: 0.6469 - accuracy: 0.6034\n",
      "Epoch 34/100\n",
      "69/69 [==============================] - 1s 10ms/step - loss: 0.6420 - accuracy: 0.6173\n",
      "Epoch 35/100\n",
      "69/69 [==============================] - 1s 11ms/step - loss: 0.6419 - accuracy: 0.6168\n",
      "Epoch 36/100\n",
      "69/69 [==============================] - 1s 16ms/step - loss: 0.6382 - accuracy: 0.6191\n",
      "Epoch 37/100\n",
      "69/69 [==============================] - 1s 16ms/step - loss: 0.6353 - accuracy: 0.6198\n",
      "Epoch 38/100\n",
      "69/69 [==============================] - 1s 16ms/step - loss: 0.6397 - accuracy: 0.6148\n",
      "Epoch 39/100\n",
      "69/69 [==============================] - 1s 17ms/step - loss: 0.6445 - accuracy: 0.6152\n",
      "Epoch 40/100\n",
      "69/69 [==============================] - 1s 10ms/step - loss: 0.6404 - accuracy: 0.6211\n",
      "Epoch 41/100\n",
      "69/69 [==============================] - 1s 10ms/step - loss: 0.6427 - accuracy: 0.6150\n",
      "Epoch 42/100\n",
      "69/69 [==============================] - 1s 10ms/step - loss: 0.6421 - accuracy: 0.6182\n",
      "Epoch 43/100\n",
      "69/69 [==============================] - 1s 10ms/step - loss: 0.6398 - accuracy: 0.6159\n",
      "Epoch 44/100\n",
      "69/69 [==============================] - 1s 11ms/step - loss: 0.6358 - accuracy: 0.6193\n",
      "Epoch 45/100\n",
      "69/69 [==============================] - 1s 10ms/step - loss: 0.6302 - accuracy: 0.6248\n",
      "Epoch 46/100\n",
      "69/69 [==============================] - 1s 10ms/step - loss: 0.6356 - accuracy: 0.6189\n",
      "Epoch 47/100\n",
      "69/69 [==============================] - 1s 10ms/step - loss: 0.6304 - accuracy: 0.6236\n",
      "Epoch 48/100\n",
      "69/69 [==============================] - 1s 10ms/step - loss: 0.6305 - accuracy: 0.6227\n",
      "Epoch 49/100\n",
      "69/69 [==============================] - 1s 10ms/step - loss: 0.6292 - accuracy: 0.6284\n",
      "Epoch 50/100\n",
      "69/69 [==============================] - 1s 10ms/step - loss: 0.6268 - accuracy: 0.6261\n",
      "Epoch 51/100\n",
      "69/69 [==============================] - 1s 10ms/step - loss: 0.6294 - accuracy: 0.6255\n",
      "Epoch 52/100\n",
      "69/69 [==============================] - 1s 10ms/step - loss: 0.6288 - accuracy: 0.6291\n",
      "Epoch 53/100\n",
      "69/69 [==============================] - 1s 10ms/step - loss: 0.6181 - accuracy: 0.6318\n",
      "Epoch 54/100\n",
      "69/69 [==============================] - 1s 13ms/step - loss: 0.6264 - accuracy: 0.6264\n",
      "Epoch 55/100\n",
      "69/69 [==============================] - 1s 16ms/step - loss: 0.6261 - accuracy: 0.6293\n",
      "Epoch 56/100\n",
      "69/69 [==============================] - 1s 16ms/step - loss: 0.6258 - accuracy: 0.6298\n",
      "Epoch 57/100\n",
      "69/69 [==============================] - 1s 16ms/step - loss: 0.6188 - accuracy: 0.6282\n",
      "Epoch 58/100\n",
      "69/69 [==============================] - 1s 14ms/step - loss: 0.6169 - accuracy: 0.6325\n",
      "Epoch 59/100\n",
      "69/69 [==============================] - 1s 10ms/step - loss: 0.6233 - accuracy: 0.6320\n",
      "Epoch 60/100\n",
      "69/69 [==============================] - 1s 10ms/step - loss: 0.6263 - accuracy: 0.6289\n",
      "Epoch 61/100\n",
      "69/69 [==============================] - 1s 10ms/step - loss: 0.6176 - accuracy: 0.6355\n",
      "Epoch 62/100\n",
      "69/69 [==============================] - 1s 10ms/step - loss: 0.6194 - accuracy: 0.6311\n",
      "Epoch 63/100\n",
      "69/69 [==============================] - 1s 10ms/step - loss: 0.6155 - accuracy: 0.6336\n",
      "Epoch 64/100\n",
      "69/69 [==============================] - 1s 10ms/step - loss: 0.6118 - accuracy: 0.6382\n",
      "Epoch 65/100\n",
      "69/69 [==============================] - 1s 10ms/step - loss: 0.6111 - accuracy: 0.6407\n",
      "Epoch 66/100\n",
      "69/69 [==============================] - 1s 10ms/step - loss: 0.6098 - accuracy: 0.6407\n",
      "Epoch 67/100\n",
      "69/69 [==============================] - 1s 10ms/step - loss: 0.6155 - accuracy: 0.6352\n",
      "Epoch 68/100\n",
      "69/69 [==============================] - 1s 10ms/step - loss: 0.6101 - accuracy: 0.6375\n",
      "Epoch 69/100\n",
      "69/69 [==============================] - 1s 10ms/step - loss: 0.6045 - accuracy: 0.6414\n",
      "Epoch 70/100\n",
      "69/69 [==============================] - 1s 11ms/step - loss: 0.6040 - accuracy: 0.6411\n",
      "Epoch 71/100\n",
      "69/69 [==============================] - 1s 10ms/step - loss: 0.6231 - accuracy: 0.6280\n",
      "Epoch 72/100\n",
      "69/69 [==============================] - 1s 10ms/step - loss: 0.6173 - accuracy: 0.6332\n",
      "Epoch 73/100\n",
      "69/69 [==============================] - 2s 30ms/step - loss: 0.6111 - accuracy: 0.6359\n",
      "Epoch 74/100\n",
      "69/69 [==============================] - 1s 20ms/step - loss: 0.6054 - accuracy: 0.6416\n",
      "Epoch 75/100\n",
      "69/69 [==============================] - 1s 16ms/step - loss: 0.5996 - accuracy: 0.6475\n",
      "Epoch 76/100\n",
      "69/69 [==============================] - 1s 10ms/step - loss: 0.5986 - accuracy: 0.6441\n",
      "Epoch 77/100\n",
      "69/69 [==============================] - 1s 10ms/step - loss: 0.5968 - accuracy: 0.6493\n",
      "Epoch 78/100\n",
      "69/69 [==============================] - 1s 10ms/step - loss: 0.5990 - accuracy: 0.6477\n",
      "Epoch 79/100\n",
      "69/69 [==============================] - 1s 10ms/step - loss: 0.6038 - accuracy: 0.6384\n",
      "Epoch 80/100\n",
      "69/69 [==============================] - 1s 10ms/step - loss: 0.6053 - accuracy: 0.6457\n",
      "Epoch 81/100\n",
      "69/69 [==============================] - 1s 10ms/step - loss: 0.6032 - accuracy: 0.6459\n",
      "Epoch 82/100\n",
      "69/69 [==============================] - 1s 10ms/step - loss: 0.6202 - accuracy: 0.6243\n",
      "Epoch 83/100\n",
      "69/69 [==============================] - 1s 10ms/step - loss: 0.6150 - accuracy: 0.6305\n",
      "Epoch 84/100\n",
      "69/69 [==============================] - 1s 12ms/step - loss: 0.6002 - accuracy: 0.6486\n",
      "Epoch 85/100\n",
      "69/69 [==============================] - 1s 18ms/step - loss: 0.6067 - accuracy: 0.6418\n",
      "Epoch 86/100\n",
      "69/69 [==============================] - 1s 10ms/step - loss: 0.6067 - accuracy: 0.6398\n",
      "Epoch 87/100\n",
      "69/69 [==============================] - 1s 10ms/step - loss: 0.6071 - accuracy: 0.6416\n",
      "Epoch 88/100\n",
      "69/69 [==============================] - 1s 10ms/step - loss: 0.6033 - accuracy: 0.6402\n",
      "Epoch 89/100\n",
      "69/69 [==============================] - 1s 14ms/step - loss: 0.5952 - accuracy: 0.6509\n",
      "Epoch 90/100\n",
      "69/69 [==============================] - 1s 16ms/step - loss: 0.5905 - accuracy: 0.6477\n",
      "Epoch 91/100\n",
      "69/69 [==============================] - 1s 16ms/step - loss: 0.5919 - accuracy: 0.6464\n",
      "Epoch 92/100\n",
      "69/69 [==============================] - 1s 16ms/step - loss: 0.5933 - accuracy: 0.6502\n",
      "Epoch 93/100\n",
      "69/69 [==============================] - 1s 14ms/step - loss: 0.5886 - accuracy: 0.6520\n",
      "Epoch 94/100\n",
      "69/69 [==============================] - 1s 10ms/step - loss: 0.5876 - accuracy: 0.6561\n",
      "Epoch 95/100\n",
      "69/69 [==============================] - 1s 10ms/step - loss: 0.6026 - accuracy: 0.6400\n",
      "Epoch 96/100\n",
      "69/69 [==============================] - 1s 10ms/step - loss: 0.5997 - accuracy: 0.6416\n",
      "Epoch 97/100\n",
      "69/69 [==============================] - 1s 10ms/step - loss: 0.5911 - accuracy: 0.6500\n",
      "Epoch 98/100\n",
      "69/69 [==============================] - 1s 10ms/step - loss: 0.5925 - accuracy: 0.6480\n",
      "Epoch 99/100\n",
      "69/69 [==============================] - 1s 10ms/step - loss: 0.5923 - accuracy: 0.6498\n",
      "Epoch 100/100\n",
      "69/69 [==============================] - 1s 10ms/step - loss: 0.6016 - accuracy: 0.6377\n"
     ]
    },
    {
     "output_type": "execute_result",
     "data": {
      "text/plain": [
       "<keras.src.callbacks.History at 0x78146c6289d0>"
      ]
     },
     "metadata": {},
     "execution_count": 40
    }
   ]
  },
  {
   "cell_type": "code",
   "execution_count": 38,
   "outputs": [],
   "source": [
    "model = lstm_rnn_model()\n",
    "\n",
    "model.load_weights(\"./sentiment_weights_lstm1.h5\")"
   ],
   "metadata": {
    "collapsed": false
   }
  },
  {
   "cell_type": "code",
   "source": [
    "from keras.callbacks import EarlyStopping\n",
    "\n",
    "# Initialize the model\n",
    "model = lstm_rnn_model()\n",
    "\n",
    "# Set up early stopping\n",
    "early_stopping = EarlyStopping(monitor='val_loss', patience=5, restore_best_weights=True)\n",
    "\n",
    "# Fit the model\n",
    "history = model.fit(\n",
    "    X_train, y_train,\n",
    "    epochs=65,\n",
    "    batch_size=64,\n",
    "    validation_data=(X_test, y_test),\n",
    "    callbacks=[early_stopping]\n",
    ")"
   ],
   "metadata": {
    "colab": {
     "base_uri": "https://localhost:8080/"
    },
    "id": "wnfm-Dt34xTv",
    "outputId": "4ce9e627-4e59-4ac4-9d9d-83af4791a57b"
   },
   "id": "wnfm-Dt34xTv",
   "execution_count": 40,
   "outputs": [
    {
     "name": "stdout",
     "output_type": "stream",
     "text": [
      "Epoch 1/65\n",
      "69/69 [==============================] - 16s 84ms/step - loss: 0.6792 - accuracy: 0.5805 - val_loss: 0.6830 - val_accuracy: 0.5541\n",
      "Epoch 2/65\n",
      "69/69 [==============================] - 5s 74ms/step - loss: 0.6748 - accuracy: 0.5866 - val_loss: 0.6766 - val_accuracy: 0.5541\n",
      "Epoch 3/65\n",
      "69/69 [==============================] - 4s 56ms/step - loss: 0.6727 - accuracy: 0.5836 - val_loss: 0.6745 - val_accuracy: 0.5574\n",
      "Epoch 4/65\n",
      "69/69 [==============================] - 3s 51ms/step - loss: 0.6702 - accuracy: 0.5886 - val_loss: 0.6717 - val_accuracy: 0.5657\n",
      "Epoch 5/65\n",
      "69/69 [==============================] - 4s 62ms/step - loss: 0.6688 - accuracy: 0.5880 - val_loss: 0.6645 - val_accuracy: 0.5707\n",
      "Epoch 6/65\n",
      "69/69 [==============================] - 5s 75ms/step - loss: 0.6675 - accuracy: 0.5880 - val_loss: 0.6719 - val_accuracy: 0.5691\n",
      "Epoch 7/65\n",
      "69/69 [==============================] - 4s 54ms/step - loss: 0.6661 - accuracy: 0.5939 - val_loss: 0.6758 - val_accuracy: 0.5624\n",
      "Epoch 8/65\n",
      "69/69 [==============================] - 5s 66ms/step - loss: 0.6655 - accuracy: 0.5891 - val_loss: 0.6743 - val_accuracy: 0.5657\n",
      "Epoch 9/65\n",
      "69/69 [==============================] - 4s 51ms/step - loss: 0.6615 - accuracy: 0.5934 - val_loss: 0.6532 - val_accuracy: 0.5691\n",
      "Epoch 10/65\n",
      "69/69 [==============================] - 3s 46ms/step - loss: 0.6579 - accuracy: 0.5889 - val_loss: 0.6636 - val_accuracy: 0.5624\n",
      "Epoch 11/65\n",
      "69/69 [==============================] - 3s 48ms/step - loss: 0.6531 - accuracy: 0.5975 - val_loss: 0.6487 - val_accuracy: 0.6007\n",
      "Epoch 12/65\n",
      "69/69 [==============================] - 6s 80ms/step - loss: 0.6495 - accuracy: 0.6011 - val_loss: 0.6412 - val_accuracy: 0.5774\n",
      "Epoch 13/65\n",
      "69/69 [==============================] - 4s 65ms/step - loss: 0.6463 - accuracy: 0.6066 - val_loss: 0.6412 - val_accuracy: 0.6156\n",
      "Epoch 14/65\n",
      "69/69 [==============================] - 4s 59ms/step - loss: 0.6422 - accuracy: 0.6155 - val_loss: 0.6342 - val_accuracy: 0.6073\n",
      "Epoch 15/65\n",
      "69/69 [==============================] - 3s 50ms/step - loss: 0.6356 - accuracy: 0.6198 - val_loss: 0.6428 - val_accuracy: 0.6106\n",
      "Epoch 16/65\n",
      "69/69 [==============================] - 4s 53ms/step - loss: 0.6371 - accuracy: 0.6139 - val_loss: 0.6710 - val_accuracy: 0.5840\n",
      "Epoch 17/65\n",
      "69/69 [==============================] - 3s 46ms/step - loss: 0.6347 - accuracy: 0.6164 - val_loss: 0.6432 - val_accuracy: 0.6190\n",
      "Epoch 18/65\n",
      "69/69 [==============================] - 3s 47ms/step - loss: 0.6266 - accuracy: 0.6220 - val_loss: 0.6434 - val_accuracy: 0.6223\n",
      "Epoch 19/65\n",
      "69/69 [==============================] - 4s 60ms/step - loss: 0.6252 - accuracy: 0.6309 - val_loss: 0.6324 - val_accuracy: 0.6256\n",
      "Epoch 20/65\n",
      "69/69 [==============================] - 3s 46ms/step - loss: 0.6178 - accuracy: 0.6391 - val_loss: 0.6300 - val_accuracy: 0.6223\n",
      "Epoch 21/65\n",
      "69/69 [==============================] - 3s 44ms/step - loss: 0.6124 - accuracy: 0.6418 - val_loss: 0.6467 - val_accuracy: 0.6190\n",
      "Epoch 22/65\n",
      "69/69 [==============================] - 3s 45ms/step - loss: 0.6127 - accuracy: 0.6414 - val_loss: 0.6316 - val_accuracy: 0.6290\n",
      "Epoch 23/65\n",
      "69/69 [==============================] - 3s 45ms/step - loss: 0.6014 - accuracy: 0.6545 - val_loss: 0.6192 - val_accuracy: 0.6306\n",
      "Epoch 24/65\n",
      "69/69 [==============================] - 3s 46ms/step - loss: 0.5932 - accuracy: 0.6580 - val_loss: 0.6264 - val_accuracy: 0.5973\n",
      "Epoch 25/65\n",
      "69/69 [==============================] - 3s 47ms/step - loss: 0.5862 - accuracy: 0.6657 - val_loss: 0.6400 - val_accuracy: 0.6223\n",
      "Epoch 26/65\n",
      "69/69 [==============================] - 3s 43ms/step - loss: 0.5879 - accuracy: 0.6561 - val_loss: 0.6121 - val_accuracy: 0.6356\n",
      "Epoch 27/65\n",
      "69/69 [==============================] - 3s 47ms/step - loss: 0.5783 - accuracy: 0.6707 - val_loss: 0.6637 - val_accuracy: 0.5990\n",
      "Epoch 28/65\n",
      "69/69 [==============================] - 3s 44ms/step - loss: 0.5703 - accuracy: 0.6768 - val_loss: 0.6109 - val_accuracy: 0.6256\n",
      "Epoch 29/65\n",
      "69/69 [==============================] - 3s 47ms/step - loss: 0.5627 - accuracy: 0.6820 - val_loss: 0.6035 - val_accuracy: 0.6373\n",
      "Epoch 30/65\n",
      "69/69 [==============================] - 3s 46ms/step - loss: 0.5651 - accuracy: 0.6807 - val_loss: 0.6309 - val_accuracy: 0.6273\n",
      "Epoch 31/65\n",
      "69/69 [==============================] - 3s 44ms/step - loss: 0.5681 - accuracy: 0.6780 - val_loss: 0.6299 - val_accuracy: 0.6439\n",
      "Epoch 32/65\n",
      "69/69 [==============================] - 3s 48ms/step - loss: 0.5527 - accuracy: 0.6900 - val_loss: 0.5927 - val_accuracy: 0.6339\n",
      "Epoch 33/65\n",
      "69/69 [==============================] - 3s 46ms/step - loss: 0.5432 - accuracy: 0.6977 - val_loss: 0.6165 - val_accuracy: 0.6356\n",
      "Epoch 34/65\n",
      "69/69 [==============================] - 3s 46ms/step - loss: 0.5393 - accuracy: 0.7020 - val_loss: 0.6158 - val_accuracy: 0.6389\n",
      "Epoch 35/65\n",
      "69/69 [==============================] - 4s 54ms/step - loss: 0.5379 - accuracy: 0.7025 - val_loss: 0.6148 - val_accuracy: 0.6273\n",
      "Epoch 36/65\n",
      "69/69 [==============================] - 4s 53ms/step - loss: 0.5261 - accuracy: 0.7077 - val_loss: 0.6090 - val_accuracy: 0.6639\n",
      "Epoch 37/65\n",
      "69/69 [==============================] - 4s 53ms/step - loss: 0.5195 - accuracy: 0.7086 - val_loss: 0.6097 - val_accuracy: 0.6489\n"
     ]
    }
   ]
  },
  {
   "cell_type": "code",
   "source": [
    "# model.save_weights(\"./sentiment_weights_lstm3.h5\")"
   ],
   "metadata": {
    "id": "iiUybQz0MbF8"
   },
   "id": "iiUybQz0MbF8",
   "execution_count": 42,
   "outputs": []
  },
  {
   "cell_type": "code",
   "execution_count": 39,
   "id": "3ee0fc47-7b7f-4a98-b1d8-94a528fb7971",
   "metadata": {
    "colab": {
     "base_uri": "https://localhost:8080/"
    },
    "id": "3ee0fc47-7b7f-4a98-b1d8-94a528fb7971",
    "outputId": "4a55ca74-1773-415f-e36a-5c0810ed6ae1"
   },
   "outputs": [
    {
     "name": "stdout",
     "output_type": "stream",
     "text": [
      "(1, 28, 1)\n"
     ]
    }
   ],
   "source": [
    "import numpy as np\n",
    "\n",
    "# Define the text to be predicted\n",
    "a = [\"it was terrible\"]\n",
    "\n",
    "# Convert the text to sequences of integers using the tokenizer\n",
    "a = tokenizer.texts_to_sequences(a)\n",
    "\n",
    "# Pad the sequences to ensure they have the same length\n",
    "a = pad_sequences(a, padding='post', maxlen=maxlen)\n",
    "\n",
    "# Reshape the array to fit the model input shape\n",
    "a = np.array(a)\n",
    "a = a.reshape((a.shape[0], a.shape[1], 1))  # Reshape to (1, maxlen, 1)\n",
    "\n",
    "print(a.shape)"
   ]
  },
  {
   "cell_type": "code",
   "execution_count": 40,
   "id": "a5a42aa1-60aa-4753-8425-a579cf77101a",
   "metadata": {
    "colab": {
     "base_uri": "https://localhost:8080/"
    },
    "id": "a5a42aa1-60aa-4753-8425-a579cf77101a",
    "outputId": "8f8ce336-0e97-48d8-e012-c9838bc62508"
   },
   "outputs": [
    {
     "name": "stdout",
     "output_type": "stream",
     "text": [
      "1/1 [==============================] - 3s 3s/step\n",
      "[[0.26330099]]\n"
     ]
    }
   ],
   "source": [
    "prediction = model.predict(np.array(a))\n",
    "print(prediction)"
   ]
  },
  {
   "cell_type": "code",
   "execution_count": 41,
   "id": "8b3e0e48-44c9-4d8e-bac3-12fc84895aa7",
   "metadata": {
    "colab": {
     "base_uri": "https://localhost:8080/"
    },
    "id": "8b3e0e48-44c9-4d8e-bac3-12fc84895aa7",
    "outputId": "2bb99826-543f-417f-8381-6f2af03c4af2"
   },
   "outputs": [
    {
     "name": "stdout",
     "output_type": "stream",
     "text": [
      "Predicted sentiment label: 0\n"
     ]
    }
   ],
   "source": [
    "# Threshold the probabilities to get the sentiment label\n",
    "sentiment_label = 1 if prediction[0]>.5 else 0\n",
    "\n",
    "print(\"Predicted sentiment label:\", sentiment_label)"
   ]
  },
  {
   "cell_type": "code",
   "execution_count": 42,
   "id": "4dcefce7-04b3-479a-bfa3-14605d65815b",
   "metadata": {
    "colab": {
     "base_uri": "https://localhost:8080/"
    },
    "id": "4dcefce7-04b3-479a-bfa3-14605d65815b",
    "outputId": "155ea670-0a95-4536-91b7-a874e53a831c"
   },
   "outputs": [
    {
     "name": "stdout",
     "output_type": "stream",
     "text": [
      "19/19 [==============================] - 0s 13ms/step\n"
     ]
    },
    {
     "data": {
      "text/plain": "array([[0.5695384 ],\n       [0.11286671],\n       [0.26274407],\n       [0.5165114 ],\n       [0.6458947 ]], dtype=float32)"
     },
     "execution_count": 42,
     "metadata": {},
     "output_type": "execute_result"
    }
   ],
   "source": [
    "y_pred=model.predict(np.array(X_test))\n",
    "y_pred[:5]"
   ]
  },
  {
   "cell_type": "code",
   "source": [
    "y_predi=[]\n",
    "threshold= 0.6014326\n",
    "for i in y_pred:\n",
    "  if i>threshold:\n",
    "    y_predi.append(1)\n",
    "  else:\n",
    "    y_predi.append(0)"
   ],
   "metadata": {
    "id": "GN-dzOtCZdcm"
   },
   "id": "GN-dzOtCZdcm",
   "execution_count": 43,
   "outputs": []
  },
  {
   "cell_type": "code",
   "source": [
    "y_test[:5]"
   ],
   "metadata": {
    "colab": {
     "base_uri": "https://localhost:8080/"
    },
    "id": "TzIp3uZSVl39",
    "outputId": "24a5c630-74d1-42f1-b0a1-ad5b26e3fa88"
   },
   "id": "TzIp3uZSVl39",
   "execution_count": 44,
   "outputs": [
    {
     "data": {
      "text/plain": "1501    1\n2586    0\n2653    0\n1055    1\n705     0\nName: label, dtype: int64"
     },
     "execution_count": 44,
     "metadata": {},
     "output_type": "execute_result"
    }
   ]
  },
  {
   "cell_type": "code",
   "source": [
    "from sklearn.metrics import accuracy_score, precision_score, recall_score, f1_score, confusion_matrix\n",
    "\n",
    "conf_matrix = confusion_matrix(y_test, y_predi)\n",
    "print(\"Confusion Matrix:\")\n",
    "conf_matrix"
   ],
   "metadata": {
    "colab": {
     "base_uri": "https://localhost:8080/"
    },
    "id": "219c_TBnZURA",
    "outputId": "2476ae2c-e450-4f34-a6c0-66b1339bad25"
   },
   "id": "219c_TBnZURA",
   "execution_count": 45,
   "outputs": [
    {
     "name": "stdout",
     "output_type": "stream",
     "text": [
      "Confusion Matrix:\n"
     ]
    },
    {
     "data": {
      "text/plain": "array([[218,  50],\n       [160, 173]], dtype=int64)"
     },
     "execution_count": 45,
     "metadata": {},
     "output_type": "execute_result"
    }
   ]
  },
  {
   "cell_type": "code",
   "source": [
    "accuracy_gen = accuracy_score(y_test, y_predi)\n",
    "print(\"Accuracy:\", accuracy_gen)\n",
    "\n",
    "precision_gen = precision_score(y_test, y_predi, average='weighted')\n",
    "print(\"Precision:\", precision_gen)\n",
    "\n",
    "recall_gen = recall_score(y_test, y_predi, average='weighted', zero_division=1)\n",
    "print(\"Recall:\", recall_gen)\n",
    "\n",
    "f1_gen = f1_score(y_test, y_predi, average='weighted')\n",
    "print(\"F1 Score:\", f1_gen)"
   ],
   "metadata": {
    "colab": {
     "base_uri": "https://localhost:8080/"
    },
    "id": "aWK4-cUnZ4vX",
    "outputId": "b965b2a4-f0a5-4ba0-f103-c2914cb0d35a"
   },
   "id": "aWK4-cUnZ4vX",
   "execution_count": 46,
   "outputs": [
    {
     "name": "stdout",
     "output_type": "stream",
     "text": [
      "Accuracy: 0.6505823627287853\n",
      "Precision: 0.6870169208499196\n",
      "Recall: 0.6505823627287853\n",
      "F1 Score: 0.6457668480382367\n"
     ]
    }
   ]
  },
  {
   "cell_type": "code",
   "source": [
    "from sklearn.metrics import roc_curve, auc\n",
    "import matplotlib.pyplot as plt\n",
    "\n",
    "fpr, tpr, thresholds = roc_curve(y_test, y_pred)\n",
    "roc_auc = auc(fpr, tpr)"
   ],
   "metadata": {
    "id": "qG100UBIVR7v"
   },
   "id": "qG100UBIVR7v",
   "execution_count": 47,
   "outputs": []
  },
  {
   "cell_type": "code",
   "source": [
    "optimal_idx = np.argmax(tpr - fpr)\n",
    "optimal_threshold = thresholds[optimal_idx]\n",
    "print(\"Threshold value is:\", optimal_threshold)"
   ],
   "metadata": {
    "colab": {
     "base_uri": "https://localhost:8080/"
    },
    "id": "Vxfewgeqd4_T",
    "outputId": "d48fba69-e8bd-4cee-d3df-45711ba57210"
   },
   "id": "Vxfewgeqd4_T",
   "execution_count": 48,
   "outputs": [
    {
     "name": "stdout",
     "output_type": "stream",
     "text": [
      "Threshold value is: 0.6104326\n"
     ]
    }
   ]
  },
  {
   "cell_type": "code",
   "source": [
    "plt.figure()\n",
    "plt.plot(fpr, tpr, color = 'darkorange', lw = 2, label = 'ROC Curve (area = %0.2f)' % roc_auc)\n",
    "plt.plot([0,1], [0,1], color = 'navy', lw = 2, linestyle = '--')\n",
    "plt.xlim([0.0, 1.0])\n",
    "plt.ylim([0.0, 1.05])\n",
    "plt.xlabel('False Positive Rate')\n",
    "plt.ylabel('True Positive Rate')\n",
    "\n",
    "print(\"Area Under Curve (AUC):\", roc_auc)\n",
    "print()"
   ],
   "metadata": {
    "colab": {
     "base_uri": "https://localhost:8080/",
     "height": 484
    },
    "id": "tKv_SSEFWBlS",
    "outputId": "c7de853d-931e-4cf8-8d4a-bfec7b6dd0f0"
   },
   "id": "tKv_SSEFWBlS",
   "execution_count": 49,
   "outputs": [
    {
     "name": "stdout",
     "output_type": "stream",
     "text": [
      "Area Under Curve (AUC): 0.7192304244543051\n",
      "\n"
     ]
    },
    {
     "data": {
      "text/plain": "<Figure size 640x480 with 1 Axes>",
      "image/png": "[encoded data removed]"
     },
     "metadata": {},
     "output_type": "display_data"
    }
   ]
  },
  {
   "cell_type": "code",
   "source": [
    "import streamlit as st\n",
    "\n",
    "# Assuming 'model' is already imported and is the sentiment analysis model\n",
    "# from model_module import model\n",
    "\n",
    "\n",
    "def predict_sentiment(text):\n",
    "    prediction = model.predict([text])[0]  # Assume the model returns an array-like structure\n",
    "    return \"Positive\" if prediction > threshold else \"Negative\"\n",
    "\n",
    "def main():\n",
    "    st.title(\"Sentiment Analysis App\")  # Using st.title correctly\n",
    "    user_input = st.text_area(\"Enter Text Here:\", \"Type here...\")  # Correct function name\n",
    "    if st.button(\"Analyze\"):\n",
    "        sentiment = predict_sentiment(user_input)\n",
    "        st.write(f\"Sentiment: {sentiment}\")\n",
    "\n",
    "if __name__ == '__main__':\n",
    "    main()\n"
   ],
   "metadata": {
    "id": "NA_pgW96WDK8",
    "colab": {
     "base_uri": "https://localhost:8080/"
    },
    "outputId": "2f61f4b3-f9db-47ad-e2e8-89c60e5d710a"
   },
   "id": "NA_pgW96WDK8",
   "execution_count": 58,
   "outputs": [
    {
     "ename": "AttributeError",
     "evalue": "module 'streamlit' has no attribute 'button'",
     "output_type": "error",
     "traceback": [
      "\u001B[1;31m---------------------------------------------------------------------------\u001B[0m",
      "\u001B[1;31mAttributeError\u001B[0m                            Traceback (most recent call last)",
      "Cell \u001B[1;32mIn[58], line 19\u001B[0m\n\u001B[0;32m     16\u001B[0m         st\u001B[38;5;241m.\u001B[39mwrite(\u001B[38;5;124mf\u001B[39m\u001B[38;5;124m\"\u001B[39m\u001B[38;5;124mSentiment: \u001B[39m\u001B[38;5;132;01m{\u001B[39;00msentiment\u001B[38;5;132;01m}\u001B[39;00m\u001B[38;5;124m\"\u001B[39m)\n\u001B[0;32m     18\u001B[0m \u001B[38;5;28;01mif\u001B[39;00m \u001B[38;5;18m__name__\u001B[39m \u001B[38;5;241m==\u001B[39m \u001B[38;5;124m'\u001B[39m\u001B[38;5;124m__main__\u001B[39m\u001B[38;5;124m'\u001B[39m:\n\u001B[1;32m---> 19\u001B[0m     \u001B[43mmain\u001B[49m\u001B[43m(\u001B[49m\u001B[43m)\u001B[49m\n",
      "Cell \u001B[1;32mIn[58], line 14\u001B[0m, in \u001B[0;36mmain\u001B[1;34m()\u001B[0m\n\u001B[0;32m     11\u001B[0m \u001B[38;5;28;01mdef\u001B[39;00m \u001B[38;5;21mmain\u001B[39m():\n\u001B[0;32m     12\u001B[0m     \u001B[38;5;66;03m# st.title(\"Sentiment Analysis App\")  # Using st.title correctly\u001B[39;00m\n\u001B[0;32m     13\u001B[0m     \u001B[38;5;66;03m# user_input = st.text_area(\"Enter Text Here:\", \"Type here...\")  # Correct function name\u001B[39;00m\n\u001B[1;32m---> 14\u001B[0m     \u001B[38;5;28;01mif\u001B[39;00m \u001B[43mst\u001B[49m\u001B[38;5;241;43m.\u001B[39;49m\u001B[43mbutton\u001B[49m(\u001B[38;5;124m\"\u001B[39m\u001B[38;5;124mAnalyze\u001B[39m\u001B[38;5;124m\"\u001B[39m):\n\u001B[0;32m     15\u001B[0m         sentiment \u001B[38;5;241m=\u001B[39m predict_sentiment(user_input)\n\u001B[0;32m     16\u001B[0m         st\u001B[38;5;241m.\u001B[39mwrite(\u001B[38;5;124mf\u001B[39m\u001B[38;5;124m\"\u001B[39m\u001B[38;5;124mSentiment: \u001B[39m\u001B[38;5;132;01m{\u001B[39;00msentiment\u001B[38;5;132;01m}\u001B[39;00m\u001B[38;5;124m\"\u001B[39m)\n",
      "\u001B[1;31mAttributeError\u001B[0m: module 'streamlit' has no attribute 'button'"
     ]
    }
   ]
  },
  {
   "cell_type": "code",
   "source": [
    "!streamlit run C:\\Users\\harsh\\PycharmProjects\\Full_Libraries\\Lib\\site-packages\\ipykernel_launcher.py"
   ],
   "metadata": {
    "colab": {
     "base_uri": "https://localhost:8080/"
    },
    "id": "y0jMi88FJRT3",
    "outputId": "873f604b-a381-464f-ca76-c4e5f0f9aff4"
   },
   "id": "y0jMi88FJRT3",
   "execution_count": 62,
   "outputs": []
  },
  {
   "cell_type": "code",
   "source": [],
   "metadata": {
    "id": "uDQLYaYVJ0On"
   },
   "id": "uDQLYaYVJ0On",
   "execution_count": null,
   "outputs": []
  }
 ],
 "metadata": {
  "kernelspec": {
   "display_name": "Python 3 (ipykernel)",
   "language": "python",
   "name": "python3"
  },
  "language_info": {
   "codemirror_mode": {
    "name": "ipython",
    "version": 3
   },
   "file_extension": ".py",
   "mimetype": "text/x-python",
   "name": "python",
   "nbconvert_exporter": "python",
   "pygments_lexer": "ipython3",
   "version": "3.11.5"
  },
  "colab": {
   "provenance": []
  }
 },
 "nbformat": 4,
 "nbformat_minor": 5
}
